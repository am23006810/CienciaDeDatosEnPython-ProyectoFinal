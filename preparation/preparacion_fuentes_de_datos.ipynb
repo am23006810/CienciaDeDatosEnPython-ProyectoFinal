{
 "cells": [
  {
   "cell_type": "code",
   "execution_count": 1,
   "id": "f924e166-e518-4845-b9a3-56b1746a29a5",
   "metadata": {},
   "outputs": [],
   "source": [
    "import pandas as pd\n",
    "import numpy as np\n",
    "from faker import Faker\n",
    "import random\n",
    "import datetime\n",
    "import boto3\n",
    "import psycopg2\n",
    "import configparser"
   ]
  },
  {
   "cell_type": "code",
   "execution_count": 2,
   "id": "71f6b9d5-2b17-442b-9beb-6b768a32fb43",
   "metadata": {},
   "outputs": [
    {
     "data": {
      "text/plain": [
       "['../escec.cfg']"
      ]
     },
     "execution_count": 2,
     "metadata": {},
     "output_type": "execute_result"
    }
   ],
   "source": [
    "config = configparser.ConfigParser()\n",
    "config.read('../escec.cfg')"
   ]
  },
  {
   "cell_type": "code",
   "execution_count": 3,
   "id": "d77a89f6-b50c-4aa0-9abe-9c0d2fd05761",
   "metadata": {},
   "outputs": [],
   "source": [
    "aws_conn = boto3.client('rds', aws_access_key_id=config.get('IAM', 'ACCESS_KEY'),\n",
    "                    aws_secret_access_key=config.get('IAM', 'SECRET_ACCESS_KEY'),\n",
    "                    region_name='us-east-1')"
   ]
  },
  {
   "cell_type": "code",
   "execution_count": 4,
   "id": "8e2e3d60-649f-4295-9ea2-9d1bfaa4d82d",
   "metadata": {},
   "outputs": [
    {
     "name": "stdout",
     "output_type": "stream",
     "text": [
      "DBInstanceIds ['proyectofinal']\n"
     ]
    }
   ],
   "source": [
    "rdsInstanceIds = []\n",
    "\n",
    "response = aws_conn.describe_db_instances()\n",
    "for resp in response['DBInstances']:\n",
    "    rdsInstanceIds.append(resp['DBInstanceIdentifier'])\n",
    "    db_instance_status = resp['DBInstanceStatus']\n",
    "\n",
    "print(f\"DBInstanceIds {rdsInstanceIds}\")"
   ]
  },
  {
   "cell_type": "code",
   "execution_count": 7,
   "id": "b0f6f27a-2c53-4842-9b76-d717a2580ea8",
   "metadata": {},
   "outputs": [
    {
     "name": "stdout",
     "output_type": "stream",
     "text": [
      "{'DBInstance': {'DBInstanceIdentifier': 'proyectofinal', 'DBInstanceClass': 'db.t3.micro', 'Engine': 'postgres', 'DBInstanceStatus': 'creating', 'MasterUsername': 'postgres', 'DBName': 'winedb', 'AllocatedStorage': 10, 'PreferredBackupWindow': '06:44-07:14', 'BackupRetentionPeriod': 1, 'DBSecurityGroups': [], 'VpcSecurityGroups': [{'VpcSecurityGroupId': 'sg-041ffb980a2e66dd0', 'Status': 'active'}], 'DBParameterGroups': [{'DBParameterGroupName': 'default.postgres14', 'ParameterApplyStatus': 'in-sync'}], 'DBSubnetGroup': {'DBSubnetGroupName': 'default', 'DBSubnetGroupDescription': 'default', 'VpcId': 'vpc-07ee105f0a1d9d046', 'SubnetGroupStatus': 'Complete', 'Subnets': [{'SubnetIdentifier': 'subnet-0077d16588f9d98fc', 'SubnetAvailabilityZone': {'Name': 'us-east-1c'}, 'SubnetOutpost': {}, 'SubnetStatus': 'Active'}, {'SubnetIdentifier': 'subnet-0181d130dcde49a1c', 'SubnetAvailabilityZone': {'Name': 'us-east-1d'}, 'SubnetOutpost': {}, 'SubnetStatus': 'Active'}, {'SubnetIdentifier': 'subnet-061cf146110998c2a', 'SubnetAvailabilityZone': {'Name': 'us-east-1e'}, 'SubnetOutpost': {}, 'SubnetStatus': 'Active'}, {'SubnetIdentifier': 'subnet-0e9fcba77f6ee0e3e', 'SubnetAvailabilityZone': {'Name': 'us-east-1a'}, 'SubnetOutpost': {}, 'SubnetStatus': 'Active'}, {'SubnetIdentifier': 'subnet-01f90fb7f1cfdbc55', 'SubnetAvailabilityZone': {'Name': 'us-east-1f'}, 'SubnetOutpost': {}, 'SubnetStatus': 'Active'}, {'SubnetIdentifier': 'subnet-005d5ac3cd60a614f', 'SubnetAvailabilityZone': {'Name': 'us-east-1b'}, 'SubnetOutpost': {}, 'SubnetStatus': 'Active'}]}, 'PreferredMaintenanceWindow': 'sat:05:41-sat:06:11', 'PendingModifiedValues': {'MasterUserPassword': '****'}, 'MultiAZ': False, 'EngineVersion': '14.6', 'AutoMinorVersionUpgrade': True, 'ReadReplicaDBInstanceIdentifiers': [], 'LicenseModel': 'postgresql-license', 'OptionGroupMemberships': [{'OptionGroupName': 'default:postgres-14', 'Status': 'in-sync'}], 'PubliclyAccessible': True, 'StorageType': 'gp2', 'DbInstancePort': 0, 'StorageEncrypted': False, 'DbiResourceId': 'db-SEZEOO3NHKB3UXSO7BHAXIFLFE', 'CACertificateIdentifier': 'rds-ca-2019', 'DomainMemberships': [], 'CopyTagsToSnapshot': False, 'MonitoringInterval': 0, 'DBInstanceArn': 'arn:aws:rds:us-east-1:665777243823:db:proyectofinal', 'IAMDatabaseAuthenticationEnabled': False, 'PerformanceInsightsEnabled': False, 'DeletionProtection': False, 'AssociatedRoles': [], 'TagList': [], 'CustomerOwnedIpEnabled': False, 'BackupTarget': 'region', 'NetworkType': 'IPV4'}, 'ResponseMetadata': {'RequestId': '3bf5b598-f0b3-480c-b84e-e77ce10bf2bd', 'HTTPStatusCode': 200, 'HTTPHeaders': {'x-amzn-requestid': '3bf5b598-f0b3-480c-b84e-e77ce10bf2bd', 'strict-transport-security': 'max-age=31536000', 'content-type': 'text/xml', 'content-length': '5212', 'date': 'Fri, 07 Apr 2023 22:51:58 GMT'}, 'RetryAttempts': 0}}\n"
     ]
    }
   ],
   "source": [
    "try:\n",
    "    response = aws_conn.create_db_instance(\n",
    "            AllocatedStorage=10,\n",
    "            DBName=config.get('RDS', 'DB_NAME'),\n",
    "            DBInstanceIdentifier='proyectofinal',\n",
    "            DBInstanceClass=\"db.t3.micro\",\n",
    "            Engine=\"postgres\",\n",
    "            MasterUsername=config.get('RDS', 'DB_USER'),\n",
    "            MasterUserPassword=config.get('RDS', 'DB_PASSWORD'),\n",
    "            Port=int(config.get('RDS', 'DB_PORT')),\n",
    "            VpcSecurityGroupIds=[config.get('VPC', 'SECURITY_GROUP')],\n",
    "            PubliclyAccessible=True\n",
    "        )\n",
    "    print(response)\n",
    "except aws_conn.exceptions.DBInstanceAlreadyExistsFault as ex:\n",
    "    print(\"La Instancia de Base de Datos ya Existe.\")"
   ]
  },
  {
   "cell_type": "code",
   "execution_count": 5,
   "id": "7ec8f2e8",
   "metadata": {},
   "outputs": [
    {
     "name": "stdout",
     "output_type": "stream",
     "text": [
      "proyectofinal.cvmhjcquzuf7.us-east-1.rds.amazonaws.com\n"
     ]
    }
   ],
   "source": [
    "try:\n",
    "     instances = aws_conn.describe_db_instances(DBInstanceIdentifier='proyectofinal')\n",
    "     RDS_HOST = instances.get('DBInstances')[0].get('Endpoint').get('Address')\n",
    "     print(RDS_HOST)\n",
    "except Exception as ex:\n",
    "     print(\"La instancia de base de datos no existe o aun no se ha terminado de crear.\")\n",
    "     print(ex)"
   ]
  },
  {
   "cell_type": "code",
   "execution_count": 27,
   "id": "8523618f",
   "metadata": {},
   "outputs": [
    {
     "name": "stdout",
     "output_type": "stream",
     "text": [
      "Base de Datos Creada Exitosamente\n"
     ]
    }
   ],
   "source": [
    "import sql_queries\n",
    "\n",
    "try:\n",
    "    db_conn = psycopg2.connect(\n",
    "        database=config.get('RDS', 'DB_NAME'), \n",
    "        user=config.get('RDS', 'DB_USER'),\n",
    "        password=config.get('RDS', 'DB_PASSWORD'), \n",
    "        host=RDS_HOST,\n",
    "        port=config.get('RDS', 'DB_PORT')\n",
    "    )\n",
    "\n",
    "    query = '''CREATE TABLE IF NOT EXISTS rose_wine(\n",
    "    Name VARCHAR(70),\n",
    "    Country VARCHAR(20),\n",
    "    Region VARCHAR(40),\n",
    "    Winery VARCHAR(70),\n",
    "    Rating float,\n",
    "    NumberOfRatings int,\n",
    "    Price float,\n",
    "    Year VARCHAR(10)\n",
    "    );'''\n",
    "\n",
    "    cursor = db_conn.cursor()\n",
    "    cursor.execute(query)\n",
    "    db_conn.commit()\n",
    "    print(\"Base de Datos Creada Exitosamente\")\n",
    "except Exception as ex:\n",
    "    print(\"ERROR: Error al crear la base de datos.\")\n",
    "    print(ex)"
   ]
  },
  {
   "cell_type": "code",
   "execution_count": 11,
   "id": "b937c4e6",
   "metadata": {},
   "outputs": [],
   "source": [
    "def insertDataToSQL(data_dict, table_name):\n",
    "     postgres_driver = f\"\"\"postgresql://{config.get('RDS', 'DB_USER')}:{config.get('RDS', 'DB_PASSWORD')}@{RDS_HOST}:{config.get('RDS', 'DB_PORT')}/{config.get('RDS', 'DB_NAME')}\"\"\"    \n",
    "     df_data = data_dict\n",
    "     try:\n",
    "          response = df_data.to_sql(table_name, postgres_driver, index=False, if_exists='append')\n",
    "          print(f'Se han insertado {response} nuevos registros.' )\n",
    "     except Exception as ex:\n",
    "          print(ex)"
   ]
  },
  {
   "cell_type": "code",
   "execution_count": 18,
   "id": "80eb7130",
   "metadata": {},
   "outputs": [],
   "source": [
    "data_rose = pd.read_csv('../data/Rose.csv')"
   ]
  },
  {
   "cell_type": "code",
   "execution_count": 19,
   "id": "804758de",
   "metadata": {},
   "outputs": [
    {
     "data": {
      "text/html": [
       "<div>\n",
       "<style scoped>\n",
       "    .dataframe tbody tr th:only-of-type {\n",
       "        vertical-align: middle;\n",
       "    }\n",
       "\n",
       "    .dataframe tbody tr th {\n",
       "        vertical-align: top;\n",
       "    }\n",
       "\n",
       "    .dataframe thead th {\n",
       "        text-align: right;\n",
       "    }\n",
       "</style>\n",
       "<table border=\"1\" class=\"dataframe\">\n",
       "  <thead>\n",
       "    <tr style=\"text-align: right;\">\n",
       "      <th></th>\n",
       "      <th>Name</th>\n",
       "      <th>Country</th>\n",
       "      <th>Region</th>\n",
       "      <th>Winery</th>\n",
       "      <th>Rating</th>\n",
       "      <th>NumberOfRatings</th>\n",
       "      <th>Price</th>\n",
       "      <th>Year</th>\n",
       "    </tr>\n",
       "  </thead>\n",
       "  <tbody>\n",
       "    <tr>\n",
       "      <th>0</th>\n",
       "      <td>Mad Méditerranée Rosé 2019</td>\n",
       "      <td>France</td>\n",
       "      <td>Méditerranée</td>\n",
       "      <td>Château Camparnaud</td>\n",
       "      <td>4.0</td>\n",
       "      <td>25</td>\n",
       "      <td>10.11</td>\n",
       "      <td>2019</td>\n",
       "    </tr>\n",
       "    <tr>\n",
       "      <th>1</th>\n",
       "      <td>Redoma Rosé 2019</td>\n",
       "      <td>Portugal</td>\n",
       "      <td>Douro</td>\n",
       "      <td>Niepoort</td>\n",
       "      <td>3.9</td>\n",
       "      <td>25</td>\n",
       "      <td>12.81</td>\n",
       "      <td>2019</td>\n",
       "    </tr>\n",
       "    <tr>\n",
       "      <th>2</th>\n",
       "      <td>Fantini Cerasuolo d'Abruzzo 2019</td>\n",
       "      <td>Italy</td>\n",
       "      <td>Abruzzo</td>\n",
       "      <td>Farnese</td>\n",
       "      <td>3.6</td>\n",
       "      <td>25</td>\n",
       "      <td>5.60</td>\n",
       "      <td>2019</td>\n",
       "    </tr>\n",
       "    <tr>\n",
       "      <th>3</th>\n",
       "      <td>Mount Hermon Rosé 2017</td>\n",
       "      <td>Israel</td>\n",
       "      <td>Galilee</td>\n",
       "      <td>Hermon</td>\n",
       "      <td>3.4</td>\n",
       "      <td>25</td>\n",
       "      <td>12.14</td>\n",
       "      <td>2017</td>\n",
       "    </tr>\n",
       "    <tr>\n",
       "      <th>4</th>\n",
       "      <td>La Villa Rosé 2018</td>\n",
       "      <td>France</td>\n",
       "      <td>Languedoc</td>\n",
       "      <td>Château La Sauvageonne</td>\n",
       "      <td>4.6</td>\n",
       "      <td>25</td>\n",
       "      <td>68.95</td>\n",
       "      <td>2018</td>\n",
       "    </tr>\n",
       "  </tbody>\n",
       "</table>\n",
       "</div>"
      ],
      "text/plain": [
       "                               Name   Country        Region  \\\n",
       "0        Mad Méditerranée Rosé 2019    France  Méditerranée   \n",
       "1                  Redoma Rosé 2019  Portugal         Douro   \n",
       "2  Fantini Cerasuolo d'Abruzzo 2019     Italy       Abruzzo   \n",
       "3            Mount Hermon Rosé 2017    Israel       Galilee   \n",
       "4                La Villa Rosé 2018    France     Languedoc   \n",
       "\n",
       "                   Winery  Rating  NumberOfRatings  Price  Year  \n",
       "0      Château Camparnaud     4.0               25  10.11  2019  \n",
       "1                Niepoort     3.9               25  12.81  2019  \n",
       "2                 Farnese     3.6               25   5.60  2019  \n",
       "3                  Hermon     3.4               25  12.14  2017  \n",
       "4  Château La Sauvageonne     4.6               25  68.95  2018  "
      ]
     },
     "execution_count": 19,
     "metadata": {},
     "output_type": "execute_result"
    }
   ],
   "source": [
    "data_rose.head()"
   ]
  },
  {
   "cell_type": "code",
   "execution_count": 14,
   "id": "74890001",
   "metadata": {},
   "outputs": [
    {
     "data": {
      "text/plain": [
       "pandas.core.frame.DataFrame"
      ]
     },
     "execution_count": 14,
     "metadata": {},
     "output_type": "execute_result"
    }
   ],
   "source": [
    "type(data_rose)"
   ]
  },
  {
   "cell_type": "code",
   "execution_count": 20,
   "id": "582aa8ec",
   "metadata": {},
   "outputs": [],
   "source": [
    "data_rose = data_rose.rename(columns={\"Name\": \"name\", \"Country\": \"country\", \"Region\": \"region\", \"Winery\": \"winery\", \"Rating\": \"rating\", \"NumberOfRatings\": \"numberofratings\", \"Price\": \"price\", \"Year\": \"year\"}, errors=\"raise\")"
   ]
  },
  {
   "cell_type": "code",
   "execution_count": 21,
   "id": "c678fb47",
   "metadata": {},
   "outputs": [
    {
     "data": {
      "text/html": [
       "<div>\n",
       "<style scoped>\n",
       "    .dataframe tbody tr th:only-of-type {\n",
       "        vertical-align: middle;\n",
       "    }\n",
       "\n",
       "    .dataframe tbody tr th {\n",
       "        vertical-align: top;\n",
       "    }\n",
       "\n",
       "    .dataframe thead th {\n",
       "        text-align: right;\n",
       "    }\n",
       "</style>\n",
       "<table border=\"1\" class=\"dataframe\">\n",
       "  <thead>\n",
       "    <tr style=\"text-align: right;\">\n",
       "      <th></th>\n",
       "      <th>name</th>\n",
       "      <th>country</th>\n",
       "      <th>region</th>\n",
       "      <th>winery</th>\n",
       "      <th>rating</th>\n",
       "      <th>numberofratings</th>\n",
       "      <th>price</th>\n",
       "      <th>year</th>\n",
       "    </tr>\n",
       "  </thead>\n",
       "  <tbody>\n",
       "    <tr>\n",
       "      <th>0</th>\n",
       "      <td>Mad Méditerranée Rosé 2019</td>\n",
       "      <td>France</td>\n",
       "      <td>Méditerranée</td>\n",
       "      <td>Château Camparnaud</td>\n",
       "      <td>4.0</td>\n",
       "      <td>25</td>\n",
       "      <td>10.11</td>\n",
       "      <td>2019</td>\n",
       "    </tr>\n",
       "    <tr>\n",
       "      <th>1</th>\n",
       "      <td>Redoma Rosé 2019</td>\n",
       "      <td>Portugal</td>\n",
       "      <td>Douro</td>\n",
       "      <td>Niepoort</td>\n",
       "      <td>3.9</td>\n",
       "      <td>25</td>\n",
       "      <td>12.81</td>\n",
       "      <td>2019</td>\n",
       "    </tr>\n",
       "    <tr>\n",
       "      <th>2</th>\n",
       "      <td>Fantini Cerasuolo d'Abruzzo 2019</td>\n",
       "      <td>Italy</td>\n",
       "      <td>Abruzzo</td>\n",
       "      <td>Farnese</td>\n",
       "      <td>3.6</td>\n",
       "      <td>25</td>\n",
       "      <td>5.60</td>\n",
       "      <td>2019</td>\n",
       "    </tr>\n",
       "    <tr>\n",
       "      <th>3</th>\n",
       "      <td>Mount Hermon Rosé 2017</td>\n",
       "      <td>Israel</td>\n",
       "      <td>Galilee</td>\n",
       "      <td>Hermon</td>\n",
       "      <td>3.4</td>\n",
       "      <td>25</td>\n",
       "      <td>12.14</td>\n",
       "      <td>2017</td>\n",
       "    </tr>\n",
       "    <tr>\n",
       "      <th>4</th>\n",
       "      <td>La Villa Rosé 2018</td>\n",
       "      <td>France</td>\n",
       "      <td>Languedoc</td>\n",
       "      <td>Château La Sauvageonne</td>\n",
       "      <td>4.6</td>\n",
       "      <td>25</td>\n",
       "      <td>68.95</td>\n",
       "      <td>2018</td>\n",
       "    </tr>\n",
       "  </tbody>\n",
       "</table>\n",
       "</div>"
      ],
      "text/plain": [
       "                               name   country        region  \\\n",
       "0        Mad Méditerranée Rosé 2019    France  Méditerranée   \n",
       "1                  Redoma Rosé 2019  Portugal         Douro   \n",
       "2  Fantini Cerasuolo d'Abruzzo 2019     Italy       Abruzzo   \n",
       "3            Mount Hermon Rosé 2017    Israel       Galilee   \n",
       "4                La Villa Rosé 2018    France     Languedoc   \n",
       "\n",
       "                   winery  rating  numberofratings  price  year  \n",
       "0      Château Camparnaud     4.0               25  10.11  2019  \n",
       "1                Niepoort     3.9               25  12.81  2019  \n",
       "2                 Farnese     3.6               25   5.60  2019  \n",
       "3                  Hermon     3.4               25  12.14  2017  \n",
       "4  Château La Sauvageonne     4.6               25  68.95  2018  "
      ]
     },
     "execution_count": 21,
     "metadata": {},
     "output_type": "execute_result"
    }
   ],
   "source": [
    "data_rose.head()"
   ]
  },
  {
   "cell_type": "code",
   "execution_count": 30,
   "id": "a1c20b72",
   "metadata": {},
   "outputs": [
    {
     "name": "stdout",
     "output_type": "stream",
     "text": [
      "<class 'pandas.core.frame.DataFrame'>\n",
      "RangeIndex: 397 entries, 0 to 396\n",
      "Data columns (total 8 columns):\n",
      " #   Column           Non-Null Count  Dtype  \n",
      "---  ------           --------------  -----  \n",
      " 0   name             397 non-null    object \n",
      " 1   country          397 non-null    object \n",
      " 2   region           397 non-null    object \n",
      " 3   winery           397 non-null    object \n",
      " 4   rating           397 non-null    float64\n",
      " 5   numberofratings  397 non-null    int64  \n",
      " 6   price            397 non-null    float64\n",
      " 7   year             397 non-null    object \n",
      "dtypes: float64(2), int64(1), object(5)\n",
      "memory usage: 24.9+ KB\n"
     ]
    }
   ],
   "source": [
    "data_rose.info()"
   ]
  },
  {
   "cell_type": "code",
   "execution_count": 28,
   "id": "87d610af",
   "metadata": {},
   "outputs": [
    {
     "name": "stdout",
     "output_type": "stream",
     "text": [
      "Se han insertado 397 nuevos registros.\n"
     ]
    }
   ],
   "source": [
    "#insertamos data\n",
    "insertDataToSQL(data_rose, 'rose_wine')"
   ]
  },
  {
   "cell_type": "code",
   "execution_count": 29,
   "id": "9d07a1cd",
   "metadata": {},
   "outputs": [
    {
     "data": {
      "text/html": [
       "<div>\n",
       "<style scoped>\n",
       "    .dataframe tbody tr th:only-of-type {\n",
       "        vertical-align: middle;\n",
       "    }\n",
       "\n",
       "    .dataframe tbody tr th {\n",
       "        vertical-align: top;\n",
       "    }\n",
       "\n",
       "    .dataframe thead th {\n",
       "        text-align: right;\n",
       "    }\n",
       "</style>\n",
       "<table border=\"1\" class=\"dataframe\">\n",
       "  <thead>\n",
       "    <tr style=\"text-align: right;\">\n",
       "      <th></th>\n",
       "      <th>name</th>\n",
       "      <th>country</th>\n",
       "      <th>region</th>\n",
       "      <th>winery</th>\n",
       "      <th>rating</th>\n",
       "      <th>numberofratings</th>\n",
       "      <th>price</th>\n",
       "      <th>year</th>\n",
       "    </tr>\n",
       "  </thead>\n",
       "  <tbody>\n",
       "    <tr>\n",
       "      <th>0</th>\n",
       "      <td>Mad Méditerranée Rosé 2019</td>\n",
       "      <td>France</td>\n",
       "      <td>Méditerranée</td>\n",
       "      <td>Château Camparnaud</td>\n",
       "      <td>4.0</td>\n",
       "      <td>25</td>\n",
       "      <td>10.11</td>\n",
       "      <td>2019</td>\n",
       "    </tr>\n",
       "    <tr>\n",
       "      <th>1</th>\n",
       "      <td>Redoma Rosé 2019</td>\n",
       "      <td>Portugal</td>\n",
       "      <td>Douro</td>\n",
       "      <td>Niepoort</td>\n",
       "      <td>3.9</td>\n",
       "      <td>25</td>\n",
       "      <td>12.81</td>\n",
       "      <td>2019</td>\n",
       "    </tr>\n",
       "    <tr>\n",
       "      <th>2</th>\n",
       "      <td>Fantini Cerasuolo d'Abruzzo 2019</td>\n",
       "      <td>Italy</td>\n",
       "      <td>Abruzzo</td>\n",
       "      <td>Farnese</td>\n",
       "      <td>3.6</td>\n",
       "      <td>25</td>\n",
       "      <td>5.60</td>\n",
       "      <td>2019</td>\n",
       "    </tr>\n",
       "    <tr>\n",
       "      <th>3</th>\n",
       "      <td>Mount Hermon Rosé 2017</td>\n",
       "      <td>Israel</td>\n",
       "      <td>Galilee</td>\n",
       "      <td>Hermon</td>\n",
       "      <td>3.4</td>\n",
       "      <td>25</td>\n",
       "      <td>12.14</td>\n",
       "      <td>2017</td>\n",
       "    </tr>\n",
       "    <tr>\n",
       "      <th>4</th>\n",
       "      <td>La Villa Rosé 2018</td>\n",
       "      <td>France</td>\n",
       "      <td>Languedoc</td>\n",
       "      <td>Château La Sauvageonne</td>\n",
       "      <td>4.6</td>\n",
       "      <td>25</td>\n",
       "      <td>68.95</td>\n",
       "      <td>2018</td>\n",
       "    </tr>\n",
       "  </tbody>\n",
       "</table>\n",
       "</div>"
      ],
      "text/plain": [
       "                               name   country        region  \\\n",
       "0        Mad Méditerranée Rosé 2019    France  Méditerranée   \n",
       "1                  Redoma Rosé 2019  Portugal         Douro   \n",
       "2  Fantini Cerasuolo d'Abruzzo 2019     Italy       Abruzzo   \n",
       "3            Mount Hermon Rosé 2017    Israel       Galilee   \n",
       "4                La Villa Rosé 2018    France     Languedoc   \n",
       "\n",
       "                   winery  rating  numberofratings  price  year  \n",
       "0      Château Camparnaud     4.0               25  10.11  2019  \n",
       "1                Niepoort     3.9               25  12.81  2019  \n",
       "2                 Farnese     3.6               25   5.60  2019  \n",
       "3                  Hermon     3.4               25  12.14  2017  \n",
       "4  Château La Sauvageonne     4.6               25  68.95  2018  "
      ]
     },
     "execution_count": 29,
     "metadata": {},
     "output_type": "execute_result"
    }
   ],
   "source": [
    "postgres_driver = f\"\"\"postgresql://{config.get('RDS', 'DB_USER')}:{config.get('RDS', 'DB_PASSWORD')}@{RDS_HOST}:{config.get('RDS', 'DB_PORT')}/{config.get('RDS', 'DB_NAME')}\"\"\"\n",
    "\n",
    "sql_query = 'SELECT * FROM rose_wine;'\n",
    "df_sectores = pd.read_sql(sql_query, postgres_driver)\n",
    "df_sectores.head()"
   ]
  }
 ],
 "metadata": {
  "kernelspec": {
   "display_name": "base",
   "language": "python",
   "name": "python3"
  },
  "language_info": {
   "codemirror_mode": {
    "name": "ipython",
    "version": 3
   },
   "file_extension": ".py",
   "mimetype": "text/x-python",
   "name": "python",
   "nbconvert_exporter": "python",
   "pygments_lexer": "ipython3",
   "version": "3.9.13"
  }
 },
 "nbformat": 4,
 "nbformat_minor": 5
}
