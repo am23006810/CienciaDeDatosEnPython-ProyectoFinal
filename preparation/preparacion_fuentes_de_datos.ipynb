{
 "cells": [
  {
   "cell_type": "code",
   "execution_count": 8,
   "id": "f924e166-e518-4845-b9a3-56b1746a29a5",
   "metadata": {},
   "outputs": [],
   "source": [
    "import pandas as pd\n",
    "import numpy as np\n",
    "import configparser\n",
    "import boto3"
   ]
  },
  {
   "cell_type": "code",
   "execution_count": 9,
   "id": "71f6b9d5-2b17-442b-9beb-6b768a32fb43",
   "metadata": {},
   "outputs": [
    {
     "data": {
      "text/plain": [
       "['../escec.cfg']"
      ]
     },
     "execution_count": 9,
     "metadata": {},
     "output_type": "execute_result"
    }
   ],
   "source": [
    "config = configparser.ConfigParser()\n",
    "config.read('../escec.cfg')"
   ]
  },
  {
   "cell_type": "code",
   "execution_count": 10,
   "id": "d77a89f6-b50c-4aa0-9abe-9c0d2fd05761",
   "metadata": {},
   "outputs": [],
   "source": [
    "aws_conn = boto3.client('rds', aws_access_key_id=config.get('IAM', 'ACCESS_KEY'),\n",
    "                    aws_secret_access_key=config.get('IAM', 'SECRET_ACCESS_KEY'),\n",
    "                    region_name='us-east-1')"
   ]
  },
  {
   "cell_type": "code",
   "execution_count": 11,
   "id": "8e2e3d60-649f-4295-9ea2-9d1bfaa4d82d",
   "metadata": {},
   "outputs": [
    {
     "name": "stdout",
     "output_type": "stream",
     "text": [
      "DBInstanceIds []\n"
     ]
    }
   ],
   "source": [
    "rdsInstanceIds = []\n",
    "\n",
    "response = aws_conn.describe_db_instances()\n",
    "for resp in response['DBInstances']:\n",
    "    rdsInstanceIds.append(resp['DBInstanceIdentifier'])\n",
    "    db_instance_status = resp['DBInstanceStatus']\n",
    "\n",
    "print(f\"DBInstanceIds {rdsInstanceIds}\")"
   ]
  },
  {
   "cell_type": "code",
   "execution_count": null,
   "id": "b0f6f27a-2c53-4842-9b76-d717a2580ea8",
   "metadata": {},
   "outputs": [],
   "source": []
  }
 ],
 "metadata": {
  "kernelspec": {
   "display_name": "default:Python",
   "language": "python",
   "name": "conda-env-default-py"
  },
  "language_info": {
   "codemirror_mode": {
    "name": "ipython",
    "version": 3
   },
   "file_extension": ".py",
   "mimetype": "text/x-python",
   "name": "python",
   "nbconvert_exporter": "python",
   "pygments_lexer": "ipython3",
   "version": "3.9.13"
  }
 },
 "nbformat": 4,
 "nbformat_minor": 5
}
